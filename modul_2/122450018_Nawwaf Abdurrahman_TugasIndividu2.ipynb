{
  "nbformat": 4,
  "nbformat_minor": 0,
  "metadata": {
    "colab": {
      "provenance": []
    },
    "kernelspec": {
      "name": "python3",
      "display_name": "Python 3"
    },
    "language_info": {
      "name": "python"
    }
  },
  "cells": [
    {
      "cell_type": "markdown",
      "source": [
        "Nama : Nawwaf Abdurrahman  \n",
        "NIM  : 122450018  \n",
        "Kelas: RC"
      ],
      "metadata": {
        "id": "Q0YAs8Jco3le"
      }
    },
    {
      "cell_type": "code",
      "execution_count": null,
      "metadata": {
        "colab": {
          "base_uri": "https://localhost:8080/"
        },
        "id": "7TfJEc4uW6mN",
        "outputId": "91eeb03a-177d-46b5-bd9d-1c88cae74596"
      },
      "outputs": [
        {
          "output_type": "stream",
          "name": "stdout",
          "text": [
            "My name is Nawwaf Abdurrahman and i'll graduate in 2024\n"
          ]
        }
      ],
      "source": [
        "nama = \"Nawwaf Abdurrahman\"\n",
        "graduate = \"2024\"\n",
        "\n",
        "print(f\"My name is {nama} and i'll graduate in {graduate}\")\n"
      ]
    },
    {
      "cell_type": "code",
      "source": [
        "print(f\"Please enter the following information so i can sell it for a profit\\n\\n\")\n",
        "first_name = input(\"First Name : \")\n",
        "last_name = input(\"Last Name : \")\n",
        "student_id = input(\"Student Id : \")\n",
        "gpa = input(\"GPA (0.0 - 4.0): \")\n",
        "grade = input(\"Grade (9-12): \")\n",
        "login = input(\"Login : \")\n",
        "\n",
        "print(\"Your Information : \")\n",
        "print(f\"       Login : {login}\")\n",
        "print(f\"       ID : {student_id}\")\n",
        "print(f\"       Name : {first_name}, {last_name}\")\n",
        "print(f\"       GPA : {gpa}\")\n",
        "print(f\"       Grade : {grade}\")"
      ],
      "metadata": {
        "colab": {
          "base_uri": "https://localhost:8080/"
        },
        "id": "Thvrzjf3XLxf",
        "outputId": "425cba8c-f6a7-4602-facf-45773844290d"
      },
      "execution_count": null,
      "outputs": [
        {
          "output_type": "stream",
          "name": "stdout",
          "text": [
            "Please enter the following information so i can sell it for a profit\n",
            "\n",
            "\n",
            "First Name : Nawwaf\n",
            "Last Name : Schneider\n",
            "Student Id : 122450018\n",
            "GPA (0.0 - 4.0): 3.9\n",
            "Grade (9-12): 12\n",
            "Login : \tkazamis\n",
            "Your Information : \n",
            "       Login : kazamis\n",
            "       ID : 122450018\n",
            "       Name : Nawwaf, Schneider\n",
            "       GPA : 3.9\n",
            "       Grade : 12\n"
          ]
        }
      ]
    },
    {
      "cell_type": "code",
      "source": [
        "print(f\"Please enter the following information so i can sell it for a profit\\n\\n\")\n",
        "first_name = input(\"First Name : \")\n",
        "last_name = input(\"Last Name : \")\n",
        "student_id = input(\"Student Id : \")\n",
        "gpa = input(\"GPA (0.0 - 4.0): \")\n",
        "grade = input(\"Grade (9-12): \")\n",
        "login = input(\"Login : \")\n",
        "\n",
        "f = open(\"biodata.txt\",\"a\")\n",
        "f.write(f\"\"\"\n",
        "Your Information :\n",
        "    Login : {login}\n",
        "    ID : {student_id}\n",
        "    Name : {first_name}, {last_name}\n",
        "    GPA : {gpa}\n",
        "    Grade : {grade}\"\"\")\n",
        "f.close\n",
        "print(\"All Done !\")"
      ],
      "metadata": {
        "colab": {
          "base_uri": "https://localhost:8080/"
        },
        "id": "E3lUHF4lZegS",
        "outputId": "bf4bc2b7-7b8f-434f-8985-14419e91ecc9"
      },
      "execution_count": null,
      "outputs": [
        {
          "output_type": "stream",
          "name": "stdout",
          "text": [
            "Please enter the following information so i can sell it for a profit\n",
            "\n",
            "\n",
            "First Name : \n",
            "Nawwaf Abdurrahman\n",
            "Last name: \n",
            "Schneider\n",
            "Grade (9-12): \n",
            "12\n",
            "Student ID : \n",
            "123331\n",
            "Login: \n",
            "kazamis\n",
            "GPA 0.0 - 4.0: \n",
            "4\n",
            "All Done !\n"
          ]
        }
      ]
    },
    {
      "cell_type": "code",
      "source": [
        "def dumb_calculator(num1,num2,num3):\n",
        "\thitung = (num1 + num2 + num3) / 2\n",
        "\tprint(f\"( {num1} + {num2} + {num3} / 2 is... {hitung}\")\n",
        "\n",
        "num1 = float(input(\"What is your first number? \"))\n",
        "num2 = float(input(\"What is your second number? \"))\n",
        "num3 = float(input(\"What is your third number? \"))\n",
        "\n",
        "dumb_calculator(num1,num2,num3)"
      ],
      "metadata": {
        "colab": {
          "base_uri": "https://localhost:8080/"
        },
        "id": "rFruPJHYd51z",
        "outputId": "c741298d-e162-42b6-dd79-0a3bf63017ef"
      },
      "execution_count": null,
      "outputs": [
        {
          "output_type": "stream",
          "name": "stdout",
          "text": [
            "What is your first number? 1.1\n",
            "What is your second number? 1.2\n",
            "What is your third number? 1.3\n",
            "( 1.1 + 1.2 + 1.3 / 2 is... 1.7999999999999998\n"
          ]
        }
      ]
    },
    {
      "cell_type": "markdown",
      "source": [
        "# Analisis\n",
        "Pada soal nomor 1, kita hanya diminta untuk membuat program print sederhana dengan dua variabel yaitu nama dan tahun kelulusan. Maka, untuk membuat program tersebut definisikan 2 variabel tersebut misal variabel nama dan graduate. Setelah itu, keluarkan output dari 2 variabel tersebut dengan fungsi print dengan tambahan f didepan yaitu formatting seperti dibawah ini.\n",
        "\n",
        "```\n",
        "# print(f\"My name is {nama} and i'll graduate in {graduate}\")\n",
        "```\n",
        "\n",
        "Untuk soal nomor 2, sama seperti sebelumnya hanya saja lebih banyak variabel dan output yang dikeluarkan seperti first_name,last_name, login, student_id, dan lain lain. Untuk mengeluarkan output agar sesuai dengan yang ada di modul maka ditambahkan sedikit spasi dalam proses printing. Seperti potongan kode dibawah.\n",
        "\n",
        "```\n",
        "# print(\"Your Information : \")\n",
        "print(f\"       Login : {login}\")\n",
        "print(f\"       ID : {student_id}\")\n",
        "print(f\"       Name : {first_name}, {last_name}\")\n",
        "print(f\"       GPA : {gpa}\")\n",
        "print(f\"       Grade : {grade}\")\n",
        "```\n",
        "Pada soal nomor 3, dilakukan sedikit modifikasi yaitu menginputkan data dan juga menyimpan data ke biodata.txt. Untuk menyimpan data tersebut digunakan fungsi open() untuk membuka dan menyimpan data. Setelah itu sama seperti sebelumnya, dalam proses penyimpanan juga dikeluarkan output yang sebelumnya disimpan dalam beberapa variabel. Berikut beberapa potongan kode yang digunakan :\n",
        "\n",
        "\n",
        "```\n",
        "# f = open(\"biodata.txt\",\"a\")\n",
        "f.write(f\"\"\"\n",
        "Your Information :\n",
        "    Login : {login}\n",
        "    ID : {student_id}\n",
        "    Name : {first_name}, {last_name}\n",
        "    GPA : {gpa}\n",
        "    Grade : {grade}\"\"\")\n",
        "f.close\n",
        "print(\"All Done !\")\n",
        "```\n",
        "\n",
        "Pada soal nomor 4, saya mencoba mengimplementasikan fungsi yang dipelajari pada saat praktikum. Fungsi tersebut bernama dumb_calculator() dan membutuhkan 3 parameter yaitu num1, num2, dan num3. parameter tersebut nantinya akan menyimpan inputan data user lalu diproses di dalam fungsi tersebut. Lalu yang terakhir adalah memanggil fungsi tersebut. Berikut baris kode yang digunakan :\n",
        "\n",
        "\n",
        "```\n",
        "# def dumb_calculator(num1,num2,num3):\n",
        "\thitung = (num1 + num2 + num3) / 2\n",
        "\tprint(f\"( {num1} + {num2} + {num3} / 2 is... {hitung}\")\n",
        "\n",
        "num1 = float(input(\"What is your first number? \"))\n",
        "num2 = float(input(\"What is your second number? \"))\n",
        "num3 = float(input(\"What is your third number? \"))\n",
        "\n",
        "dumb_calculator(num1,num2,num3)\n",
        "```\n",
        "\n"
      ],
      "metadata": {
        "id": "a7khtAqEi5Pq"
      }
    }
  ]
}